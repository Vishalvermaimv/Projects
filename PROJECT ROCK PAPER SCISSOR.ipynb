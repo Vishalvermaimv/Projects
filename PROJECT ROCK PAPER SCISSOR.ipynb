{
 "cells": [
  {
   "cell_type": "code",
   "execution_count": 4,
   "metadata": {},
   "outputs": [
    {
     "name": "stdout",
     "output_type": "stream",
     "text": [
      "Player 2 selected:  rock \n",
      "player 1 won\n"
     ]
    }
   ],
   "source": [
    "#ROCK PAPPER SCISSOR GAME:\n",
    "\n",
    "\n",
    "import random\n",
    "player1=input(\"select Rock, Paper ,or Scissor: \").lower()\n",
    "player2=random.choice([\"Rock \",\"Paper\",\"Scissor\"]).lower()\n",
    "print(\"Player 2 selected: \",player2)\n",
    "if player1 ==\"rock\" and player2==\"paper\":\n",
    "    print(\"Player 2 Won\")\n",
    "elif player1==\"paper\" and player2==\"scissor\":\n",
    "    print(\"player2 Won\")\n",
    "elif player1==\"scissor\" and player2==\"rock\":\n",
    "    print(\"player 2 won\")\n",
    "elif player1==player2:\n",
    "    print(\"Tie\")\n",
    "else:\n",
    "    print(\"player 1 won\")"
   ]
  }
 ],
 "metadata": {
  "kernelspec": {
   "display_name": "Python 3.10.7 64-bit",
   "language": "python",
   "name": "python3"
  },
  "language_info": {
   "codemirror_mode": {
    "name": "ipython",
    "version": 3
   },
   "file_extension": ".py",
   "mimetype": "text/x-python",
   "name": "python",
   "nbconvert_exporter": "python",
   "pygments_lexer": "ipython3",
   "version": "3.10.7"
  },
  "orig_nbformat": 4,
  "vscode": {
   "interpreter": {
    "hash": "aef80b6ac783f7042fbfc7f7228212085612e82dbe6ac48db8c348140cb084f4"
   }
  }
 },
 "nbformat": 4,
 "nbformat_minor": 2
}
