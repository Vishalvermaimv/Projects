{
  "nbformat": 4,
  "nbformat_minor": 0,
  "metadata": {
    "colab": {
      "provenance": []
    },
    "kernelspec": {
      "name": "python3",
      "display_name": "Python 3"
    },
    "language_info": {
      "name": "python"
    }
  },
  "cells": [
    {
      "cell_type": "code",
      "source": [
        "#MINI PROJECT: QUIZ MAKER:\n",
        "\n",
        "question_prompt = [\n",
        "    \"what is the colour of apple? \\n (a) red (b) yellow (c) white (d) purple\",\n",
        "    \"what is the colour of Banana? \\n (a) yellow (b) red (c) purple (d) black\"\n",
        "]"
      ],
      "metadata": {
        "id": "OooO2ux_xlr5"
      },
      "execution_count": null,
      "outputs": []
    }
  ]
}